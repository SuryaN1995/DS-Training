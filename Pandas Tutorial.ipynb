{
 "cells": [
  {
   "cell_type": "code",
   "execution_count": 1,
   "id": "insured-version",
   "metadata": {},
   "outputs": [],
   "source": [
    "import numpy as np"
   ]
  },
  {
   "cell_type": "code",
   "execution_count": 3,
   "id": "arbitrary-edward",
   "metadata": {},
   "outputs": [],
   "source": [
    "import pandas as pd"
   ]
  },
  {
   "cell_type": "code",
   "execution_count": 5,
   "id": "median-shipping",
   "metadata": {},
   "outputs": [],
   "source": [
    "from numpy.random import randn"
   ]
  },
  {
   "cell_type": "code",
   "execution_count": 7,
   "id": "stuffed-jefferson",
   "metadata": {},
   "outputs": [
    {
     "data": {
      "text/html": [
       "<div>\n",
       "<style scoped>\n",
       "    .dataframe tbody tr th:only-of-type {\n",
       "        vertical-align: middle;\n",
       "    }\n",
       "\n",
       "    .dataframe tbody tr th {\n",
       "        vertical-align: top;\n",
       "    }\n",
       "\n",
       "    .dataframe thead th {\n",
       "        text-align: right;\n",
       "    }\n",
       "</style>\n",
       "<table border=\"1\" class=\"dataframe\">\n",
       "  <thead>\n",
       "    <tr style=\"text-align: right;\">\n",
       "      <th></th>\n",
       "      <th>0</th>\n",
       "      <th>1</th>\n",
       "      <th>2</th>\n",
       "      <th>3</th>\n",
       "    </tr>\n",
       "  </thead>\n",
       "  <tbody>\n",
       "    <tr>\n",
       "      <th>0</th>\n",
       "      <td>-0.515007</td>\n",
       "      <td>0.454659</td>\n",
       "      <td>2.740278</td>\n",
       "      <td>1.817429</td>\n",
       "    </tr>\n",
       "    <tr>\n",
       "      <th>1</th>\n",
       "      <td>0.710757</td>\n",
       "      <td>0.399072</td>\n",
       "      <td>-1.024888</td>\n",
       "      <td>-1.702449</td>\n",
       "    </tr>\n",
       "    <tr>\n",
       "      <th>2</th>\n",
       "      <td>-0.551801</td>\n",
       "      <td>0.383831</td>\n",
       "      <td>0.754431</td>\n",
       "      <td>-0.774755</td>\n",
       "    </tr>\n",
       "    <tr>\n",
       "      <th>3</th>\n",
       "      <td>-0.117979</td>\n",
       "      <td>-0.493062</td>\n",
       "      <td>0.106152</td>\n",
       "      <td>1.232933</td>\n",
       "    </tr>\n",
       "    <tr>\n",
       "      <th>4</th>\n",
       "      <td>1.344607</td>\n",
       "      <td>0.954419</td>\n",
       "      <td>1.000857</td>\n",
       "      <td>-0.333746</td>\n",
       "    </tr>\n",
       "  </tbody>\n",
       "</table>\n",
       "</div>"
      ],
      "text/plain": [
       "          0         1         2         3\n",
       "0 -0.515007  0.454659  2.740278  1.817429\n",
       "1  0.710757  0.399072 -1.024888 -1.702449\n",
       "2 -0.551801  0.383831  0.754431 -0.774755\n",
       "3 -0.117979 -0.493062  0.106152  1.232933\n",
       "4  1.344607  0.954419  1.000857 -0.333746"
      ]
     },
     "execution_count": 7,
     "metadata": {},
     "output_type": "execute_result"
    }
   ],
   "source": [
    "pd.DataFrame(randn(5,4))"
   ]
  },
  {
   "cell_type": "code",
   "execution_count": 11,
   "id": "figured-college",
   "metadata": {},
   "outputs": [],
   "source": [
    "df = pd.DataFrame(randn(5,4),index='a b c d e'.split(),columns='w x y z'.split())"
   ]
  },
  {
   "cell_type": "code",
   "execution_count": 12,
   "id": "minute-waters",
   "metadata": {},
   "outputs": [
    {
     "data": {
      "text/html": [
       "<div>\n",
       "<style scoped>\n",
       "    .dataframe tbody tr th:only-of-type {\n",
       "        vertical-align: middle;\n",
       "    }\n",
       "\n",
       "    .dataframe tbody tr th {\n",
       "        vertical-align: top;\n",
       "    }\n",
       "\n",
       "    .dataframe thead th {\n",
       "        text-align: right;\n",
       "    }\n",
       "</style>\n",
       "<table border=\"1\" class=\"dataframe\">\n",
       "  <thead>\n",
       "    <tr style=\"text-align: right;\">\n",
       "      <th></th>\n",
       "      <th>w</th>\n",
       "      <th>x</th>\n",
       "      <th>y</th>\n",
       "      <th>z</th>\n",
       "    </tr>\n",
       "  </thead>\n",
       "  <tbody>\n",
       "    <tr>\n",
       "      <th>a</th>\n",
       "      <td>-0.324626</td>\n",
       "      <td>0.346383</td>\n",
       "      <td>0.482216</td>\n",
       "      <td>0.693656</td>\n",
       "    </tr>\n",
       "    <tr>\n",
       "      <th>b</th>\n",
       "      <td>1.216777</td>\n",
       "      <td>0.386816</td>\n",
       "      <td>0.231618</td>\n",
       "      <td>0.805428</td>\n",
       "    </tr>\n",
       "    <tr>\n",
       "      <th>c</th>\n",
       "      <td>0.000260</td>\n",
       "      <td>0.533055</td>\n",
       "      <td>-1.203004</td>\n",
       "      <td>1.327866</td>\n",
       "    </tr>\n",
       "    <tr>\n",
       "      <th>d</th>\n",
       "      <td>1.163298</td>\n",
       "      <td>0.052400</td>\n",
       "      <td>2.095201</td>\n",
       "      <td>0.877059</td>\n",
       "    </tr>\n",
       "    <tr>\n",
       "      <th>e</th>\n",
       "      <td>0.330758</td>\n",
       "      <td>-1.012746</td>\n",
       "      <td>1.311625</td>\n",
       "      <td>-1.428448</td>\n",
       "    </tr>\n",
       "  </tbody>\n",
       "</table>\n",
       "</div>"
      ],
      "text/plain": [
       "          w         x         y         z\n",
       "a -0.324626  0.346383  0.482216  0.693656\n",
       "b  1.216777  0.386816  0.231618  0.805428\n",
       "c  0.000260  0.533055 -1.203004  1.327866\n",
       "d  1.163298  0.052400  2.095201  0.877059\n",
       "e  0.330758 -1.012746  1.311625 -1.428448"
      ]
     },
     "execution_count": 12,
     "metadata": {},
     "output_type": "execute_result"
    }
   ],
   "source": [
    "df"
   ]
  },
  {
   "cell_type": "code",
   "execution_count": 13,
   "id": "educated-limitation",
   "metadata": {},
   "outputs": [
    {
     "name": "stdout",
     "output_type": "stream",
     "text": [
      "          w         x         y         z\n",
      "a -0.324626  0.346383  0.482216  0.693656\n",
      "b  1.216777  0.386816  0.231618  0.805428\n",
      "c  0.000260  0.533055 -1.203004  1.327866\n",
      "d  1.163298  0.052400  2.095201  0.877059\n",
      "e  0.330758 -1.012746  1.311625 -1.428448\n"
     ]
    }
   ],
   "source": [
    "print(df)"
   ]
  },
  {
   "cell_type": "code",
   "execution_count": 14,
   "id": "developed-spare",
   "metadata": {},
   "outputs": [
    {
     "data": {
      "text/plain": [
       "a   -0.324626\n",
       "b    1.216777\n",
       "c    0.000260\n",
       "d    1.163298\n",
       "e    0.330758\n",
       "Name: w, dtype: float64"
      ]
     },
     "execution_count": 14,
     "metadata": {},
     "output_type": "execute_result"
    }
   ],
   "source": [
    "df['w']"
   ]
  },
  {
   "cell_type": "code",
   "execution_count": 19,
   "id": "chronic-general",
   "metadata": {},
   "outputs": [
    {
     "data": {
      "text/html": [
       "<div>\n",
       "<style scoped>\n",
       "    .dataframe tbody tr th:only-of-type {\n",
       "        vertical-align: middle;\n",
       "    }\n",
       "\n",
       "    .dataframe tbody tr th {\n",
       "        vertical-align: top;\n",
       "    }\n",
       "\n",
       "    .dataframe thead th {\n",
       "        text-align: right;\n",
       "    }\n",
       "</style>\n",
       "<table border=\"1\" class=\"dataframe\">\n",
       "  <thead>\n",
       "    <tr style=\"text-align: right;\">\n",
       "      <th></th>\n",
       "      <th>w</th>\n",
       "      <th>z</th>\n",
       "    </tr>\n",
       "  </thead>\n",
       "  <tbody>\n",
       "    <tr>\n",
       "      <th>a</th>\n",
       "      <td>-0.324626</td>\n",
       "      <td>0.693656</td>\n",
       "    </tr>\n",
       "    <tr>\n",
       "      <th>b</th>\n",
       "      <td>1.216777</td>\n",
       "      <td>0.805428</td>\n",
       "    </tr>\n",
       "    <tr>\n",
       "      <th>c</th>\n",
       "      <td>0.000260</td>\n",
       "      <td>1.327866</td>\n",
       "    </tr>\n",
       "    <tr>\n",
       "      <th>d</th>\n",
       "      <td>1.163298</td>\n",
       "      <td>0.877059</td>\n",
       "    </tr>\n",
       "    <tr>\n",
       "      <th>e</th>\n",
       "      <td>0.330758</td>\n",
       "      <td>-1.428448</td>\n",
       "    </tr>\n",
       "  </tbody>\n",
       "</table>\n",
       "</div>"
      ],
      "text/plain": [
       "          w         z\n",
       "a -0.324626  0.693656\n",
       "b  1.216777  0.805428\n",
       "c  0.000260  1.327866\n",
       "d  1.163298  0.877059\n",
       "e  0.330758 -1.428448"
      ]
     },
     "execution_count": 19,
     "metadata": {},
     "output_type": "execute_result"
    }
   ],
   "source": [
    "df[['w','z']]"
   ]
  },
  {
   "cell_type": "code",
   "execution_count": 20,
   "id": "traditional-tyler",
   "metadata": {},
   "outputs": [],
   "source": [
    "df['new'] = df['w']+df['y']"
   ]
  },
  {
   "cell_type": "code",
   "execution_count": 21,
   "id": "advance-editor",
   "metadata": {},
   "outputs": [
    {
     "data": {
      "text/html": [
       "<div>\n",
       "<style scoped>\n",
       "    .dataframe tbody tr th:only-of-type {\n",
       "        vertical-align: middle;\n",
       "    }\n",
       "\n",
       "    .dataframe tbody tr th {\n",
       "        vertical-align: top;\n",
       "    }\n",
       "\n",
       "    .dataframe thead th {\n",
       "        text-align: right;\n",
       "    }\n",
       "</style>\n",
       "<table border=\"1\" class=\"dataframe\">\n",
       "  <thead>\n",
       "    <tr style=\"text-align: right;\">\n",
       "      <th></th>\n",
       "      <th>w</th>\n",
       "      <th>x</th>\n",
       "      <th>y</th>\n",
       "      <th>z</th>\n",
       "      <th>new</th>\n",
       "    </tr>\n",
       "  </thead>\n",
       "  <tbody>\n",
       "    <tr>\n",
       "      <th>a</th>\n",
       "      <td>-0.324626</td>\n",
       "      <td>0.346383</td>\n",
       "      <td>0.482216</td>\n",
       "      <td>0.693656</td>\n",
       "      <td>0.157590</td>\n",
       "    </tr>\n",
       "    <tr>\n",
       "      <th>b</th>\n",
       "      <td>1.216777</td>\n",
       "      <td>0.386816</td>\n",
       "      <td>0.231618</td>\n",
       "      <td>0.805428</td>\n",
       "      <td>1.448395</td>\n",
       "    </tr>\n",
       "    <tr>\n",
       "      <th>c</th>\n",
       "      <td>0.000260</td>\n",
       "      <td>0.533055</td>\n",
       "      <td>-1.203004</td>\n",
       "      <td>1.327866</td>\n",
       "      <td>-1.202743</td>\n",
       "    </tr>\n",
       "    <tr>\n",
       "      <th>d</th>\n",
       "      <td>1.163298</td>\n",
       "      <td>0.052400</td>\n",
       "      <td>2.095201</td>\n",
       "      <td>0.877059</td>\n",
       "      <td>3.258499</td>\n",
       "    </tr>\n",
       "    <tr>\n",
       "      <th>e</th>\n",
       "      <td>0.330758</td>\n",
       "      <td>-1.012746</td>\n",
       "      <td>1.311625</td>\n",
       "      <td>-1.428448</td>\n",
       "      <td>1.642383</td>\n",
       "    </tr>\n",
       "  </tbody>\n",
       "</table>\n",
       "</div>"
      ],
      "text/plain": [
       "          w         x         y         z       new\n",
       "a -0.324626  0.346383  0.482216  0.693656  0.157590\n",
       "b  1.216777  0.386816  0.231618  0.805428  1.448395\n",
       "c  0.000260  0.533055 -1.203004  1.327866 -1.202743\n",
       "d  1.163298  0.052400  2.095201  0.877059  3.258499\n",
       "e  0.330758 -1.012746  1.311625 -1.428448  1.642383"
      ]
     },
     "execution_count": 21,
     "metadata": {},
     "output_type": "execute_result"
    }
   ],
   "source": [
    "df"
   ]
  },
  {
   "cell_type": "code",
   "execution_count": 22,
   "id": "tutorial-architect",
   "metadata": {},
   "outputs": [
    {
     "data": {
      "text/html": [
       "<div>\n",
       "<style scoped>\n",
       "    .dataframe tbody tr th:only-of-type {\n",
       "        vertical-align: middle;\n",
       "    }\n",
       "\n",
       "    .dataframe tbody tr th {\n",
       "        vertical-align: top;\n",
       "    }\n",
       "\n",
       "    .dataframe thead th {\n",
       "        text-align: right;\n",
       "    }\n",
       "</style>\n",
       "<table border=\"1\" class=\"dataframe\">\n",
       "  <thead>\n",
       "    <tr style=\"text-align: right;\">\n",
       "      <th></th>\n",
       "      <th>w</th>\n",
       "      <th>x</th>\n",
       "      <th>y</th>\n",
       "      <th>z</th>\n",
       "    </tr>\n",
       "  </thead>\n",
       "  <tbody>\n",
       "    <tr>\n",
       "      <th>a</th>\n",
       "      <td>-0.324626</td>\n",
       "      <td>0.346383</td>\n",
       "      <td>0.482216</td>\n",
       "      <td>0.693656</td>\n",
       "    </tr>\n",
       "    <tr>\n",
       "      <th>b</th>\n",
       "      <td>1.216777</td>\n",
       "      <td>0.386816</td>\n",
       "      <td>0.231618</td>\n",
       "      <td>0.805428</td>\n",
       "    </tr>\n",
       "    <tr>\n",
       "      <th>c</th>\n",
       "      <td>0.000260</td>\n",
       "      <td>0.533055</td>\n",
       "      <td>-1.203004</td>\n",
       "      <td>1.327866</td>\n",
       "    </tr>\n",
       "    <tr>\n",
       "      <th>d</th>\n",
       "      <td>1.163298</td>\n",
       "      <td>0.052400</td>\n",
       "      <td>2.095201</td>\n",
       "      <td>0.877059</td>\n",
       "    </tr>\n",
       "    <tr>\n",
       "      <th>e</th>\n",
       "      <td>0.330758</td>\n",
       "      <td>-1.012746</td>\n",
       "      <td>1.311625</td>\n",
       "      <td>-1.428448</td>\n",
       "    </tr>\n",
       "  </tbody>\n",
       "</table>\n",
       "</div>"
      ],
      "text/plain": [
       "          w         x         y         z\n",
       "a -0.324626  0.346383  0.482216  0.693656\n",
       "b  1.216777  0.386816  0.231618  0.805428\n",
       "c  0.000260  0.533055 -1.203004  1.327866\n",
       "d  1.163298  0.052400  2.095201  0.877059\n",
       "e  0.330758 -1.012746  1.311625 -1.428448"
      ]
     },
     "execution_count": 22,
     "metadata": {},
     "output_type": "execute_result"
    }
   ],
   "source": [
    "df.drop('new',axis=1)"
   ]
  },
  {
   "cell_type": "code",
   "execution_count": 23,
   "id": "vulnerable-pursuit",
   "metadata": {},
   "outputs": [
    {
     "data": {
      "text/html": [
       "<div>\n",
       "<style scoped>\n",
       "    .dataframe tbody tr th:only-of-type {\n",
       "        vertical-align: middle;\n",
       "    }\n",
       "\n",
       "    .dataframe tbody tr th {\n",
       "        vertical-align: top;\n",
       "    }\n",
       "\n",
       "    .dataframe thead th {\n",
       "        text-align: right;\n",
       "    }\n",
       "</style>\n",
       "<table border=\"1\" class=\"dataframe\">\n",
       "  <thead>\n",
       "    <tr style=\"text-align: right;\">\n",
       "      <th></th>\n",
       "      <th>w</th>\n",
       "      <th>x</th>\n",
       "      <th>y</th>\n",
       "      <th>z</th>\n",
       "      <th>new</th>\n",
       "    </tr>\n",
       "  </thead>\n",
       "  <tbody>\n",
       "    <tr>\n",
       "      <th>a</th>\n",
       "      <td>-0.324626</td>\n",
       "      <td>0.346383</td>\n",
       "      <td>0.482216</td>\n",
       "      <td>0.693656</td>\n",
       "      <td>0.157590</td>\n",
       "    </tr>\n",
       "    <tr>\n",
       "      <th>b</th>\n",
       "      <td>1.216777</td>\n",
       "      <td>0.386816</td>\n",
       "      <td>0.231618</td>\n",
       "      <td>0.805428</td>\n",
       "      <td>1.448395</td>\n",
       "    </tr>\n",
       "    <tr>\n",
       "      <th>c</th>\n",
       "      <td>0.000260</td>\n",
       "      <td>0.533055</td>\n",
       "      <td>-1.203004</td>\n",
       "      <td>1.327866</td>\n",
       "      <td>-1.202743</td>\n",
       "    </tr>\n",
       "    <tr>\n",
       "      <th>d</th>\n",
       "      <td>1.163298</td>\n",
       "      <td>0.052400</td>\n",
       "      <td>2.095201</td>\n",
       "      <td>0.877059</td>\n",
       "      <td>3.258499</td>\n",
       "    </tr>\n",
       "    <tr>\n",
       "      <th>e</th>\n",
       "      <td>0.330758</td>\n",
       "      <td>-1.012746</td>\n",
       "      <td>1.311625</td>\n",
       "      <td>-1.428448</td>\n",
       "      <td>1.642383</td>\n",
       "    </tr>\n",
       "  </tbody>\n",
       "</table>\n",
       "</div>"
      ],
      "text/plain": [
       "          w         x         y         z       new\n",
       "a -0.324626  0.346383  0.482216  0.693656  0.157590\n",
       "b  1.216777  0.386816  0.231618  0.805428  1.448395\n",
       "c  0.000260  0.533055 -1.203004  1.327866 -1.202743\n",
       "d  1.163298  0.052400  2.095201  0.877059  3.258499\n",
       "e  0.330758 -1.012746  1.311625 -1.428448  1.642383"
      ]
     },
     "execution_count": 23,
     "metadata": {},
     "output_type": "execute_result"
    }
   ],
   "source": [
    "df"
   ]
  },
  {
   "cell_type": "code",
   "execution_count": 24,
   "id": "automatic-questionnaire",
   "metadata": {},
   "outputs": [],
   "source": [
    "df.drop('new',axis=1,inplace = True)"
   ]
  },
  {
   "cell_type": "code",
   "execution_count": 25,
   "id": "likely-utility",
   "metadata": {},
   "outputs": [
    {
     "data": {
      "text/html": [
       "<div>\n",
       "<style scoped>\n",
       "    .dataframe tbody tr th:only-of-type {\n",
       "        vertical-align: middle;\n",
       "    }\n",
       "\n",
       "    .dataframe tbody tr th {\n",
       "        vertical-align: top;\n",
       "    }\n",
       "\n",
       "    .dataframe thead th {\n",
       "        text-align: right;\n",
       "    }\n",
       "</style>\n",
       "<table border=\"1\" class=\"dataframe\">\n",
       "  <thead>\n",
       "    <tr style=\"text-align: right;\">\n",
       "      <th></th>\n",
       "      <th>w</th>\n",
       "      <th>x</th>\n",
       "      <th>y</th>\n",
       "      <th>z</th>\n",
       "    </tr>\n",
       "  </thead>\n",
       "  <tbody>\n",
       "    <tr>\n",
       "      <th>a</th>\n",
       "      <td>-0.324626</td>\n",
       "      <td>0.346383</td>\n",
       "      <td>0.482216</td>\n",
       "      <td>0.693656</td>\n",
       "    </tr>\n",
       "    <tr>\n",
       "      <th>b</th>\n",
       "      <td>1.216777</td>\n",
       "      <td>0.386816</td>\n",
       "      <td>0.231618</td>\n",
       "      <td>0.805428</td>\n",
       "    </tr>\n",
       "    <tr>\n",
       "      <th>c</th>\n",
       "      <td>0.000260</td>\n",
       "      <td>0.533055</td>\n",
       "      <td>-1.203004</td>\n",
       "      <td>1.327866</td>\n",
       "    </tr>\n",
       "    <tr>\n",
       "      <th>d</th>\n",
       "      <td>1.163298</td>\n",
       "      <td>0.052400</td>\n",
       "      <td>2.095201</td>\n",
       "      <td>0.877059</td>\n",
       "    </tr>\n",
       "    <tr>\n",
       "      <th>e</th>\n",
       "      <td>0.330758</td>\n",
       "      <td>-1.012746</td>\n",
       "      <td>1.311625</td>\n",
       "      <td>-1.428448</td>\n",
       "    </tr>\n",
       "  </tbody>\n",
       "</table>\n",
       "</div>"
      ],
      "text/plain": [
       "          w         x         y         z\n",
       "a -0.324626  0.346383  0.482216  0.693656\n",
       "b  1.216777  0.386816  0.231618  0.805428\n",
       "c  0.000260  0.533055 -1.203004  1.327866\n",
       "d  1.163298  0.052400  2.095201  0.877059\n",
       "e  0.330758 -1.012746  1.311625 -1.428448"
      ]
     },
     "execution_count": 25,
     "metadata": {},
     "output_type": "execute_result"
    }
   ],
   "source": [
    "df"
   ]
  },
  {
   "cell_type": "code",
   "execution_count": 26,
   "id": "homeless-printing",
   "metadata": {},
   "outputs": [
    {
     "data": {
      "text/html": [
       "<div>\n",
       "<style scoped>\n",
       "    .dataframe tbody tr th:only-of-type {\n",
       "        vertical-align: middle;\n",
       "    }\n",
       "\n",
       "    .dataframe tbody tr th {\n",
       "        vertical-align: top;\n",
       "    }\n",
       "\n",
       "    .dataframe thead th {\n",
       "        text-align: right;\n",
       "    }\n",
       "</style>\n",
       "<table border=\"1\" class=\"dataframe\">\n",
       "  <thead>\n",
       "    <tr style=\"text-align: right;\">\n",
       "      <th></th>\n",
       "      <th>w</th>\n",
       "      <th>x</th>\n",
       "      <th>y</th>\n",
       "      <th>z</th>\n",
       "    </tr>\n",
       "  </thead>\n",
       "  <tbody>\n",
       "    <tr>\n",
       "      <th>a</th>\n",
       "      <td>-0.324626</td>\n",
       "      <td>0.346383</td>\n",
       "      <td>0.482216</td>\n",
       "      <td>0.693656</td>\n",
       "    </tr>\n",
       "    <tr>\n",
       "      <th>b</th>\n",
       "      <td>1.216777</td>\n",
       "      <td>0.386816</td>\n",
       "      <td>0.231618</td>\n",
       "      <td>0.805428</td>\n",
       "    </tr>\n",
       "    <tr>\n",
       "      <th>c</th>\n",
       "      <td>0.000260</td>\n",
       "      <td>0.533055</td>\n",
       "      <td>-1.203004</td>\n",
       "      <td>1.327866</td>\n",
       "    </tr>\n",
       "    <tr>\n",
       "      <th>d</th>\n",
       "      <td>1.163298</td>\n",
       "      <td>0.052400</td>\n",
       "      <td>2.095201</td>\n",
       "      <td>0.877059</td>\n",
       "    </tr>\n",
       "  </tbody>\n",
       "</table>\n",
       "</div>"
      ],
      "text/plain": [
       "          w         x         y         z\n",
       "a -0.324626  0.346383  0.482216  0.693656\n",
       "b  1.216777  0.386816  0.231618  0.805428\n",
       "c  0.000260  0.533055 -1.203004  1.327866\n",
       "d  1.163298  0.052400  2.095201  0.877059"
      ]
     },
     "execution_count": 26,
     "metadata": {},
     "output_type": "execute_result"
    }
   ],
   "source": [
    "df.drop('e',axis=0)"
   ]
  },
  {
   "cell_type": "code",
   "execution_count": 28,
   "id": "promotional-eligibility",
   "metadata": {},
   "outputs": [
    {
     "data": {
      "text/plain": [
       "w   -0.324626\n",
       "x    0.346383\n",
       "y    0.482216\n",
       "z    0.693656\n",
       "Name: a, dtype: float64"
      ]
     },
     "execution_count": 28,
     "metadata": {},
     "output_type": "execute_result"
    }
   ],
   "source": [
    "df.loc['a']"
   ]
  },
  {
   "cell_type": "code",
   "execution_count": 31,
   "id": "sapphire-bennett",
   "metadata": {},
   "outputs": [
    {
     "data": {
      "text/plain": [
       "w   -0.324626\n",
       "x    0.346383\n",
       "y    0.482216\n",
       "z    0.693656\n",
       "Name: a, dtype: float64"
      ]
     },
     "execution_count": 31,
     "metadata": {},
     "output_type": "execute_result"
    }
   ],
   "source": [
    "df.iloc[0]"
   ]
  },
  {
   "cell_type": "code",
   "execution_count": 32,
   "id": "broke-candidate",
   "metadata": {},
   "outputs": [
    {
     "data": {
      "text/plain": [
       "-0.32462561437775067"
      ]
     },
     "execution_count": 32,
     "metadata": {},
     "output_type": "execute_result"
    }
   ],
   "source": [
    "df['w']['a']"
   ]
  },
  {
   "cell_type": "code",
   "execution_count": 33,
   "id": "individual-reading",
   "metadata": {},
   "outputs": [
    {
     "data": {
      "text/plain": [
       "-0.32462561437775067"
      ]
     },
     "execution_count": 33,
     "metadata": {},
     "output_type": "execute_result"
    }
   ],
   "source": [
    "df.loc['a']['w']"
   ]
  },
  {
   "cell_type": "code",
   "execution_count": 34,
   "id": "mobile-tribune",
   "metadata": {},
   "outputs": [
    {
     "data": {
      "text/plain": [
       "-0.32462561437775067"
      ]
     },
     "execution_count": 34,
     "metadata": {},
     "output_type": "execute_result"
    }
   ],
   "source": [
    "df.iloc[0]['w']"
   ]
  },
  {
   "cell_type": "code",
   "execution_count": 35,
   "id": "realistic-decimal",
   "metadata": {},
   "outputs": [
    {
     "data": {
      "text/html": [
       "<div>\n",
       "<style scoped>\n",
       "    .dataframe tbody tr th:only-of-type {\n",
       "        vertical-align: middle;\n",
       "    }\n",
       "\n",
       "    .dataframe tbody tr th {\n",
       "        vertical-align: top;\n",
       "    }\n",
       "\n",
       "    .dataframe thead th {\n",
       "        text-align: right;\n",
       "    }\n",
       "</style>\n",
       "<table border=\"1\" class=\"dataframe\">\n",
       "  <thead>\n",
       "    <tr style=\"text-align: right;\">\n",
       "      <th></th>\n",
       "      <th>w</th>\n",
       "      <th>x</th>\n",
       "      <th>y</th>\n",
       "      <th>z</th>\n",
       "    </tr>\n",
       "  </thead>\n",
       "  <tbody>\n",
       "    <tr>\n",
       "      <th>a</th>\n",
       "      <td>False</td>\n",
       "      <td>True</td>\n",
       "      <td>True</td>\n",
       "      <td>True</td>\n",
       "    </tr>\n",
       "    <tr>\n",
       "      <th>b</th>\n",
       "      <td>True</td>\n",
       "      <td>True</td>\n",
       "      <td>True</td>\n",
       "      <td>True</td>\n",
       "    </tr>\n",
       "    <tr>\n",
       "      <th>c</th>\n",
       "      <td>True</td>\n",
       "      <td>True</td>\n",
       "      <td>False</td>\n",
       "      <td>True</td>\n",
       "    </tr>\n",
       "    <tr>\n",
       "      <th>d</th>\n",
       "      <td>True</td>\n",
       "      <td>True</td>\n",
       "      <td>True</td>\n",
       "      <td>True</td>\n",
       "    </tr>\n",
       "    <tr>\n",
       "      <th>e</th>\n",
       "      <td>True</td>\n",
       "      <td>False</td>\n",
       "      <td>True</td>\n",
       "      <td>False</td>\n",
       "    </tr>\n",
       "  </tbody>\n",
       "</table>\n",
       "</div>"
      ],
      "text/plain": [
       "       w      x      y      z\n",
       "a  False   True   True   True\n",
       "b   True   True   True   True\n",
       "c   True   True  False   True\n",
       "d   True   True   True   True\n",
       "e   True  False   True  False"
      ]
     },
     "execution_count": 35,
     "metadata": {},
     "output_type": "execute_result"
    }
   ],
   "source": [
    "df>0"
   ]
  },
  {
   "cell_type": "code",
   "execution_count": 36,
   "id": "guilty-version",
   "metadata": {},
   "outputs": [
    {
     "data": {
      "text/html": [
       "<div>\n",
       "<style scoped>\n",
       "    .dataframe tbody tr th:only-of-type {\n",
       "        vertical-align: middle;\n",
       "    }\n",
       "\n",
       "    .dataframe tbody tr th {\n",
       "        vertical-align: top;\n",
       "    }\n",
       "\n",
       "    .dataframe thead th {\n",
       "        text-align: right;\n",
       "    }\n",
       "</style>\n",
       "<table border=\"1\" class=\"dataframe\">\n",
       "  <thead>\n",
       "    <tr style=\"text-align: right;\">\n",
       "      <th></th>\n",
       "      <th>w</th>\n",
       "      <th>x</th>\n",
       "      <th>y</th>\n",
       "      <th>z</th>\n",
       "    </tr>\n",
       "  </thead>\n",
       "  <tbody>\n",
       "    <tr>\n",
       "      <th>a</th>\n",
       "      <td>True</td>\n",
       "      <td>False</td>\n",
       "      <td>False</td>\n",
       "      <td>False</td>\n",
       "    </tr>\n",
       "    <tr>\n",
       "      <th>b</th>\n",
       "      <td>False</td>\n",
       "      <td>False</td>\n",
       "      <td>False</td>\n",
       "      <td>False</td>\n",
       "    </tr>\n",
       "    <tr>\n",
       "      <th>c</th>\n",
       "      <td>False</td>\n",
       "      <td>False</td>\n",
       "      <td>True</td>\n",
       "      <td>False</td>\n",
       "    </tr>\n",
       "    <tr>\n",
       "      <th>d</th>\n",
       "      <td>False</td>\n",
       "      <td>False</td>\n",
       "      <td>False</td>\n",
       "      <td>False</td>\n",
       "    </tr>\n",
       "    <tr>\n",
       "      <th>e</th>\n",
       "      <td>False</td>\n",
       "      <td>True</td>\n",
       "      <td>False</td>\n",
       "      <td>True</td>\n",
       "    </tr>\n",
       "  </tbody>\n",
       "</table>\n",
       "</div>"
      ],
      "text/plain": [
       "       w      x      y      z\n",
       "a   True  False  False  False\n",
       "b  False  False  False  False\n",
       "c  False  False   True  False\n",
       "d  False  False  False  False\n",
       "e  False   True  False   True"
      ]
     },
     "execution_count": 36,
     "metadata": {},
     "output_type": "execute_result"
    }
   ],
   "source": [
    "df<0"
   ]
  },
  {
   "cell_type": "code",
   "execution_count": 37,
   "id": "municipal-grove",
   "metadata": {},
   "outputs": [
    {
     "data": {
      "text/html": [
       "<div>\n",
       "<style scoped>\n",
       "    .dataframe tbody tr th:only-of-type {\n",
       "        vertical-align: middle;\n",
       "    }\n",
       "\n",
       "    .dataframe tbody tr th {\n",
       "        vertical-align: top;\n",
       "    }\n",
       "\n",
       "    .dataframe thead th {\n",
       "        text-align: right;\n",
       "    }\n",
       "</style>\n",
       "<table border=\"1\" class=\"dataframe\">\n",
       "  <thead>\n",
       "    <tr style=\"text-align: right;\">\n",
       "      <th></th>\n",
       "      <th>w</th>\n",
       "      <th>x</th>\n",
       "      <th>y</th>\n",
       "      <th>z</th>\n",
       "    </tr>\n",
       "  </thead>\n",
       "  <tbody>\n",
       "    <tr>\n",
       "      <th>a</th>\n",
       "      <td>False</td>\n",
       "      <td>True</td>\n",
       "      <td>True</td>\n",
       "      <td>True</td>\n",
       "    </tr>\n",
       "    <tr>\n",
       "      <th>b</th>\n",
       "      <td>True</td>\n",
       "      <td>True</td>\n",
       "      <td>True</td>\n",
       "      <td>True</td>\n",
       "    </tr>\n",
       "    <tr>\n",
       "      <th>c</th>\n",
       "      <td>True</td>\n",
       "      <td>True</td>\n",
       "      <td>False</td>\n",
       "      <td>True</td>\n",
       "    </tr>\n",
       "    <tr>\n",
       "      <th>d</th>\n",
       "      <td>True</td>\n",
       "      <td>True</td>\n",
       "      <td>True</td>\n",
       "      <td>True</td>\n",
       "    </tr>\n",
       "    <tr>\n",
       "      <th>e</th>\n",
       "      <td>True</td>\n",
       "      <td>False</td>\n",
       "      <td>True</td>\n",
       "      <td>False</td>\n",
       "    </tr>\n",
       "  </tbody>\n",
       "</table>\n",
       "</div>"
      ],
      "text/plain": [
       "       w      x      y      z\n",
       "a  False   True   True   True\n",
       "b   True   True   True   True\n",
       "c   True   True  False   True\n",
       "d   True   True   True   True\n",
       "e   True  False   True  False"
      ]
     },
     "execution_count": 37,
     "metadata": {},
     "output_type": "execute_result"
    }
   ],
   "source": [
    "df>=0"
   ]
  },
  {
   "cell_type": "code",
   "execution_count": 39,
   "id": "amazing-gather",
   "metadata": {},
   "outputs": [
    {
     "data": {
      "text/plain": [
       "a    False\n",
       "b     True\n",
       "c     True\n",
       "d     True\n",
       "e     True\n",
       "Name: w, dtype: bool"
      ]
     },
     "execution_count": 39,
     "metadata": {},
     "output_type": "execute_result"
    }
   ],
   "source": [
    "(df['w']>0)"
   ]
  },
  {
   "cell_type": "code",
   "execution_count": 41,
   "id": "referenced-mayor",
   "metadata": {},
   "outputs": [
    {
     "data": {
      "text/plain": [
       "4"
      ]
     },
     "execution_count": 41,
     "metadata": {},
     "output_type": "execute_result"
    }
   ],
   "source": [
    "(df['w']>0).sum()"
   ]
  },
  {
   "cell_type": "code",
   "execution_count": 42,
   "id": "quarterly-image",
   "metadata": {},
   "outputs": [
    {
     "data": {
      "text/html": [
       "<div>\n",
       "<style scoped>\n",
       "    .dataframe tbody tr th:only-of-type {\n",
       "        vertical-align: middle;\n",
       "    }\n",
       "\n",
       "    .dataframe tbody tr th {\n",
       "        vertical-align: top;\n",
       "    }\n",
       "\n",
       "    .dataframe thead th {\n",
       "        text-align: right;\n",
       "    }\n",
       "</style>\n",
       "<table border=\"1\" class=\"dataframe\">\n",
       "  <thead>\n",
       "    <tr style=\"text-align: right;\">\n",
       "      <th></th>\n",
       "      <th>w</th>\n",
       "      <th>x</th>\n",
       "      <th>y</th>\n",
       "      <th>z</th>\n",
       "    </tr>\n",
       "  </thead>\n",
       "  <tbody>\n",
       "    <tr>\n",
       "      <th>a</th>\n",
       "      <td>-0.324626</td>\n",
       "      <td>0.346383</td>\n",
       "      <td>0.482216</td>\n",
       "      <td>0.693656</td>\n",
       "    </tr>\n",
       "    <tr>\n",
       "      <th>b</th>\n",
       "      <td>1.216777</td>\n",
       "      <td>0.386816</td>\n",
       "      <td>0.231618</td>\n",
       "      <td>0.805428</td>\n",
       "    </tr>\n",
       "    <tr>\n",
       "      <th>c</th>\n",
       "      <td>0.000260</td>\n",
       "      <td>0.533055</td>\n",
       "      <td>-1.203004</td>\n",
       "      <td>1.327866</td>\n",
       "    </tr>\n",
       "    <tr>\n",
       "      <th>d</th>\n",
       "      <td>1.163298</td>\n",
       "      <td>0.052400</td>\n",
       "      <td>2.095201</td>\n",
       "      <td>0.877059</td>\n",
       "    </tr>\n",
       "  </tbody>\n",
       "</table>\n",
       "</div>"
      ],
      "text/plain": [
       "          w         x         y         z\n",
       "a -0.324626  0.346383  0.482216  0.693656\n",
       "b  1.216777  0.386816  0.231618  0.805428\n",
       "c  0.000260  0.533055 -1.203004  1.327866\n",
       "d  1.163298  0.052400  2.095201  0.877059"
      ]
     },
     "execution_count": 42,
     "metadata": {},
     "output_type": "execute_result"
    }
   ],
   "source": [
    "df[df['x']>0]"
   ]
  },
  {
   "cell_type": "code",
   "execution_count": 50,
   "id": "compound-canal",
   "metadata": {},
   "outputs": [
    {
     "data": {
      "text/html": [
       "<div>\n",
       "<style scoped>\n",
       "    .dataframe tbody tr th:only-of-type {\n",
       "        vertical-align: middle;\n",
       "    }\n",
       "\n",
       "    .dataframe tbody tr th {\n",
       "        vertical-align: top;\n",
       "    }\n",
       "\n",
       "    .dataframe thead th {\n",
       "        text-align: right;\n",
       "    }\n",
       "</style>\n",
       "<table border=\"1\" class=\"dataframe\">\n",
       "  <thead>\n",
       "    <tr style=\"text-align: right;\">\n",
       "      <th></th>\n",
       "      <th>w</th>\n",
       "      <th>z</th>\n",
       "    </tr>\n",
       "  </thead>\n",
       "  <tbody>\n",
       "    <tr>\n",
       "      <th>a</th>\n",
       "      <td>-0.324626</td>\n",
       "      <td>0.693656</td>\n",
       "    </tr>\n",
       "    <tr>\n",
       "      <th>b</th>\n",
       "      <td>1.216777</td>\n",
       "      <td>0.805428</td>\n",
       "    </tr>\n",
       "    <tr>\n",
       "      <th>c</th>\n",
       "      <td>0.000260</td>\n",
       "      <td>1.327866</td>\n",
       "    </tr>\n",
       "    <tr>\n",
       "      <th>d</th>\n",
       "      <td>1.163298</td>\n",
       "      <td>0.877059</td>\n",
       "    </tr>\n",
       "  </tbody>\n",
       "</table>\n",
       "</div>"
      ],
      "text/plain": [
       "          w         z\n",
       "a -0.324626  0.693656\n",
       "b  1.216777  0.805428\n",
       "c  0.000260  1.327866\n",
       "d  1.163298  0.877059"
      ]
     },
     "execution_count": 50,
     "metadata": {},
     "output_type": "execute_result"
    }
   ],
   "source": [
    "sol = df[df['x']>0]\n",
    "mycell = ['w','z']\n",
    "sol[mycell]"
   ]
  },
  {
   "cell_type": "code",
   "execution_count": 52,
   "id": "announced-borough",
   "metadata": {},
   "outputs": [],
   "source": [
    "df['states'] = 'KA KE TN AP TE'.split()"
   ]
  },
  {
   "cell_type": "code",
   "execution_count": 53,
   "id": "missing-debate",
   "metadata": {},
   "outputs": [
    {
     "data": {
      "text/html": [
       "<div>\n",
       "<style scoped>\n",
       "    .dataframe tbody tr th:only-of-type {\n",
       "        vertical-align: middle;\n",
       "    }\n",
       "\n",
       "    .dataframe tbody tr th {\n",
       "        vertical-align: top;\n",
       "    }\n",
       "\n",
       "    .dataframe thead th {\n",
       "        text-align: right;\n",
       "    }\n",
       "</style>\n",
       "<table border=\"1\" class=\"dataframe\">\n",
       "  <thead>\n",
       "    <tr style=\"text-align: right;\">\n",
       "      <th></th>\n",
       "      <th>w</th>\n",
       "      <th>x</th>\n",
       "      <th>y</th>\n",
       "      <th>z</th>\n",
       "      <th>states</th>\n",
       "    </tr>\n",
       "  </thead>\n",
       "  <tbody>\n",
       "    <tr>\n",
       "      <th>a</th>\n",
       "      <td>-0.324626</td>\n",
       "      <td>0.346383</td>\n",
       "      <td>0.482216</td>\n",
       "      <td>0.693656</td>\n",
       "      <td>KA</td>\n",
       "    </tr>\n",
       "    <tr>\n",
       "      <th>b</th>\n",
       "      <td>1.216777</td>\n",
       "      <td>0.386816</td>\n",
       "      <td>0.231618</td>\n",
       "      <td>0.805428</td>\n",
       "      <td>KE</td>\n",
       "    </tr>\n",
       "    <tr>\n",
       "      <th>c</th>\n",
       "      <td>0.000260</td>\n",
       "      <td>0.533055</td>\n",
       "      <td>-1.203004</td>\n",
       "      <td>1.327866</td>\n",
       "      <td>TN</td>\n",
       "    </tr>\n",
       "    <tr>\n",
       "      <th>d</th>\n",
       "      <td>1.163298</td>\n",
       "      <td>0.052400</td>\n",
       "      <td>2.095201</td>\n",
       "      <td>0.877059</td>\n",
       "      <td>AP</td>\n",
       "    </tr>\n",
       "    <tr>\n",
       "      <th>e</th>\n",
       "      <td>0.330758</td>\n",
       "      <td>-1.012746</td>\n",
       "      <td>1.311625</td>\n",
       "      <td>-1.428448</td>\n",
       "      <td>TE</td>\n",
       "    </tr>\n",
       "  </tbody>\n",
       "</table>\n",
       "</div>"
      ],
      "text/plain": [
       "          w         x         y         z states\n",
       "a -0.324626  0.346383  0.482216  0.693656     KA\n",
       "b  1.216777  0.386816  0.231618  0.805428     KE\n",
       "c  0.000260  0.533055 -1.203004  1.327866     TN\n",
       "d  1.163298  0.052400  2.095201  0.877059     AP\n",
       "e  0.330758 -1.012746  1.311625 -1.428448     TE"
      ]
     },
     "execution_count": 53,
     "metadata": {},
     "output_type": "execute_result"
    }
   ],
   "source": [
    "df"
   ]
  },
  {
   "cell_type": "code",
   "execution_count": 54,
   "id": "greatest-sydney",
   "metadata": {},
   "outputs": [
    {
     "data": {
      "text/html": [
       "<div>\n",
       "<style scoped>\n",
       "    .dataframe tbody tr th:only-of-type {\n",
       "        vertical-align: middle;\n",
       "    }\n",
       "\n",
       "    .dataframe tbody tr th {\n",
       "        vertical-align: top;\n",
       "    }\n",
       "\n",
       "    .dataframe thead th {\n",
       "        text-align: right;\n",
       "    }\n",
       "</style>\n",
       "<table border=\"1\" class=\"dataframe\">\n",
       "  <thead>\n",
       "    <tr style=\"text-align: right;\">\n",
       "      <th></th>\n",
       "      <th>w</th>\n",
       "      <th>x</th>\n",
       "      <th>y</th>\n",
       "      <th>z</th>\n",
       "    </tr>\n",
       "    <tr>\n",
       "      <th>states</th>\n",
       "      <th></th>\n",
       "      <th></th>\n",
       "      <th></th>\n",
       "      <th></th>\n",
       "    </tr>\n",
       "  </thead>\n",
       "  <tbody>\n",
       "    <tr>\n",
       "      <th>KA</th>\n",
       "      <td>-0.324626</td>\n",
       "      <td>0.346383</td>\n",
       "      <td>0.482216</td>\n",
       "      <td>0.693656</td>\n",
       "    </tr>\n",
       "    <tr>\n",
       "      <th>KE</th>\n",
       "      <td>1.216777</td>\n",
       "      <td>0.386816</td>\n",
       "      <td>0.231618</td>\n",
       "      <td>0.805428</td>\n",
       "    </tr>\n",
       "    <tr>\n",
       "      <th>TN</th>\n",
       "      <td>0.000260</td>\n",
       "      <td>0.533055</td>\n",
       "      <td>-1.203004</td>\n",
       "      <td>1.327866</td>\n",
       "    </tr>\n",
       "    <tr>\n",
       "      <th>AP</th>\n",
       "      <td>1.163298</td>\n",
       "      <td>0.052400</td>\n",
       "      <td>2.095201</td>\n",
       "      <td>0.877059</td>\n",
       "    </tr>\n",
       "    <tr>\n",
       "      <th>TE</th>\n",
       "      <td>0.330758</td>\n",
       "      <td>-1.012746</td>\n",
       "      <td>1.311625</td>\n",
       "      <td>-1.428448</td>\n",
       "    </tr>\n",
       "  </tbody>\n",
       "</table>\n",
       "</div>"
      ],
      "text/plain": [
       "               w         x         y         z\n",
       "states                                        \n",
       "KA     -0.324626  0.346383  0.482216  0.693656\n",
       "KE      1.216777  0.386816  0.231618  0.805428\n",
       "TN      0.000260  0.533055 -1.203004  1.327866\n",
       "AP      1.163298  0.052400  2.095201  0.877059\n",
       "TE      0.330758 -1.012746  1.311625 -1.428448"
      ]
     },
     "execution_count": 54,
     "metadata": {},
     "output_type": "execute_result"
    }
   ],
   "source": [
    "df.set_index('states')"
   ]
  },
  {
   "cell_type": "code",
   "execution_count": 55,
   "id": "secret-water",
   "metadata": {},
   "outputs": [
    {
     "data": {
      "text/html": [
       "<div>\n",
       "<style scoped>\n",
       "    .dataframe tbody tr th:only-of-type {\n",
       "        vertical-align: middle;\n",
       "    }\n",
       "\n",
       "    .dataframe tbody tr th {\n",
       "        vertical-align: top;\n",
       "    }\n",
       "\n",
       "    .dataframe thead th {\n",
       "        text-align: right;\n",
       "    }\n",
       "</style>\n",
       "<table border=\"1\" class=\"dataframe\">\n",
       "  <thead>\n",
       "    <tr style=\"text-align: right;\">\n",
       "      <th></th>\n",
       "      <th>w</th>\n",
       "      <th>x</th>\n",
       "      <th>y</th>\n",
       "      <th>z</th>\n",
       "      <th>states</th>\n",
       "    </tr>\n",
       "  </thead>\n",
       "  <tbody>\n",
       "    <tr>\n",
       "      <th>a</th>\n",
       "      <td>-0.324626</td>\n",
       "      <td>0.346383</td>\n",
       "      <td>0.482216</td>\n",
       "      <td>0.693656</td>\n",
       "      <td>KA</td>\n",
       "    </tr>\n",
       "    <tr>\n",
       "      <th>b</th>\n",
       "      <td>1.216777</td>\n",
       "      <td>0.386816</td>\n",
       "      <td>0.231618</td>\n",
       "      <td>0.805428</td>\n",
       "      <td>KE</td>\n",
       "    </tr>\n",
       "    <tr>\n",
       "      <th>c</th>\n",
       "      <td>0.000260</td>\n",
       "      <td>0.533055</td>\n",
       "      <td>-1.203004</td>\n",
       "      <td>1.327866</td>\n",
       "      <td>TN</td>\n",
       "    </tr>\n",
       "    <tr>\n",
       "      <th>d</th>\n",
       "      <td>1.163298</td>\n",
       "      <td>0.052400</td>\n",
       "      <td>2.095201</td>\n",
       "      <td>0.877059</td>\n",
       "      <td>AP</td>\n",
       "    </tr>\n",
       "    <tr>\n",
       "      <th>e</th>\n",
       "      <td>0.330758</td>\n",
       "      <td>-1.012746</td>\n",
       "      <td>1.311625</td>\n",
       "      <td>-1.428448</td>\n",
       "      <td>TE</td>\n",
       "    </tr>\n",
       "  </tbody>\n",
       "</table>\n",
       "</div>"
      ],
      "text/plain": [
       "          w         x         y         z states\n",
       "a -0.324626  0.346383  0.482216  0.693656     KA\n",
       "b  1.216777  0.386816  0.231618  0.805428     KE\n",
       "c  0.000260  0.533055 -1.203004  1.327866     TN\n",
       "d  1.163298  0.052400  2.095201  0.877059     AP\n",
       "e  0.330758 -1.012746  1.311625 -1.428448     TE"
      ]
     },
     "execution_count": 55,
     "metadata": {},
     "output_type": "execute_result"
    }
   ],
   "source": [
    "df"
   ]
  },
  {
   "cell_type": "code",
   "execution_count": 56,
   "id": "early-effect",
   "metadata": {},
   "outputs": [],
   "source": [
    "df.set_index('states',inplace =True)"
   ]
  },
  {
   "cell_type": "code",
   "execution_count": 57,
   "id": "novel-triangle",
   "metadata": {},
   "outputs": [
    {
     "data": {
      "text/html": [
       "<div>\n",
       "<style scoped>\n",
       "    .dataframe tbody tr th:only-of-type {\n",
       "        vertical-align: middle;\n",
       "    }\n",
       "\n",
       "    .dataframe tbody tr th {\n",
       "        vertical-align: top;\n",
       "    }\n",
       "\n",
       "    .dataframe thead th {\n",
       "        text-align: right;\n",
       "    }\n",
       "</style>\n",
       "<table border=\"1\" class=\"dataframe\">\n",
       "  <thead>\n",
       "    <tr style=\"text-align: right;\">\n",
       "      <th></th>\n",
       "      <th>w</th>\n",
       "      <th>x</th>\n",
       "      <th>y</th>\n",
       "      <th>z</th>\n",
       "    </tr>\n",
       "    <tr>\n",
       "      <th>states</th>\n",
       "      <th></th>\n",
       "      <th></th>\n",
       "      <th></th>\n",
       "      <th></th>\n",
       "    </tr>\n",
       "  </thead>\n",
       "  <tbody>\n",
       "    <tr>\n",
       "      <th>KA</th>\n",
       "      <td>-0.324626</td>\n",
       "      <td>0.346383</td>\n",
       "      <td>0.482216</td>\n",
       "      <td>0.693656</td>\n",
       "    </tr>\n",
       "    <tr>\n",
       "      <th>KE</th>\n",
       "      <td>1.216777</td>\n",
       "      <td>0.386816</td>\n",
       "      <td>0.231618</td>\n",
       "      <td>0.805428</td>\n",
       "    </tr>\n",
       "    <tr>\n",
       "      <th>TN</th>\n",
       "      <td>0.000260</td>\n",
       "      <td>0.533055</td>\n",
       "      <td>-1.203004</td>\n",
       "      <td>1.327866</td>\n",
       "    </tr>\n",
       "    <tr>\n",
       "      <th>AP</th>\n",
       "      <td>1.163298</td>\n",
       "      <td>0.052400</td>\n",
       "      <td>2.095201</td>\n",
       "      <td>0.877059</td>\n",
       "    </tr>\n",
       "    <tr>\n",
       "      <th>TE</th>\n",
       "      <td>0.330758</td>\n",
       "      <td>-1.012746</td>\n",
       "      <td>1.311625</td>\n",
       "      <td>-1.428448</td>\n",
       "    </tr>\n",
       "  </tbody>\n",
       "</table>\n",
       "</div>"
      ],
      "text/plain": [
       "               w         x         y         z\n",
       "states                                        \n",
       "KA     -0.324626  0.346383  0.482216  0.693656\n",
       "KE      1.216777  0.386816  0.231618  0.805428\n",
       "TN      0.000260  0.533055 -1.203004  1.327866\n",
       "AP      1.163298  0.052400  2.095201  0.877059\n",
       "TE      0.330758 -1.012746  1.311625 -1.428448"
      ]
     },
     "execution_count": 57,
     "metadata": {},
     "output_type": "execute_result"
    }
   ],
   "source": [
    "df"
   ]
  },
  {
   "cell_type": "code",
   "execution_count": 68,
   "id": "saved-consultancy",
   "metadata": {},
   "outputs": [],
   "source": [
    "outside = ['g1','g1','g1','g2','g2']\n",
    "inside = [1,2,3,4,5]\n",
    "matrix = list(zip(outside,inside))"
   ]
  },
  {
   "cell_type": "code",
   "execution_count": null,
   "id": "proved-consent",
   "metadata": {},
   "outputs": [],
   "source": []
  },
  {
   "cell_type": "code",
   "execution_count": 69,
   "id": "physical-puzzle",
   "metadata": {},
   "outputs": [
    {
     "data": {
      "text/plain": [
       "[('g1', 1), ('g1', 2), ('g1', 3), ('g2', 4), ('g2', 5)]"
      ]
     },
     "execution_count": 69,
     "metadata": {},
     "output_type": "execute_result"
    }
   ],
   "source": [
    "matrix"
   ]
  },
  {
   "cell_type": "code",
   "execution_count": 70,
   "id": "appointed-buffer",
   "metadata": {},
   "outputs": [],
   "source": [
    "matrix = pd.MultiIndex.from_tuples(matrix)"
   ]
  },
  {
   "cell_type": "code",
   "execution_count": null,
   "id": "demographic-mathematics",
   "metadata": {},
   "outputs": [],
   "source": []
  },
  {
   "cell_type": "code",
   "execution_count": 71,
   "id": "metropolitan-friday",
   "metadata": {},
   "outputs": [
    {
     "data": {
      "text/plain": [
       "MultiIndex([('g1', 1),\n",
       "            ('g1', 2),\n",
       "            ('g1', 3),\n",
       "            ('g2', 4),\n",
       "            ('g2', 5)],\n",
       "           )"
      ]
     },
     "execution_count": 71,
     "metadata": {},
     "output_type": "execute_result"
    }
   ],
   "source": [
    "matrix"
   ]
  },
  {
   "cell_type": "code",
   "execution_count": 74,
   "id": "wrapped-guatemala",
   "metadata": {},
   "outputs": [],
   "source": [
    "df = pd.DataFrame(randn(5,4),index= matrix,columns =['a','b','c','d'])"
   ]
  },
  {
   "cell_type": "code",
   "execution_count": 75,
   "id": "mechanical-profit",
   "metadata": {},
   "outputs": [
    {
     "data": {
      "text/html": [
       "<div>\n",
       "<style scoped>\n",
       "    .dataframe tbody tr th:only-of-type {\n",
       "        vertical-align: middle;\n",
       "    }\n",
       "\n",
       "    .dataframe tbody tr th {\n",
       "        vertical-align: top;\n",
       "    }\n",
       "\n",
       "    .dataframe thead th {\n",
       "        text-align: right;\n",
       "    }\n",
       "</style>\n",
       "<table border=\"1\" class=\"dataframe\">\n",
       "  <thead>\n",
       "    <tr style=\"text-align: right;\">\n",
       "      <th></th>\n",
       "      <th></th>\n",
       "      <th>a</th>\n",
       "      <th>b</th>\n",
       "      <th>c</th>\n",
       "      <th>d</th>\n",
       "    </tr>\n",
       "  </thead>\n",
       "  <tbody>\n",
       "    <tr>\n",
       "      <th rowspan=\"3\" valign=\"top\">g1</th>\n",
       "      <th>1</th>\n",
       "      <td>-0.070782</td>\n",
       "      <td>-0.611522</td>\n",
       "      <td>0.194547</td>\n",
       "      <td>1.025839</td>\n",
       "    </tr>\n",
       "    <tr>\n",
       "      <th>2</th>\n",
       "      <td>0.327139</td>\n",
       "      <td>0.586525</td>\n",
       "      <td>-1.196564</td>\n",
       "      <td>2.035472</td>\n",
       "    </tr>\n",
       "    <tr>\n",
       "      <th>3</th>\n",
       "      <td>0.888067</td>\n",
       "      <td>0.278761</td>\n",
       "      <td>1.037051</td>\n",
       "      <td>0.970365</td>\n",
       "    </tr>\n",
       "    <tr>\n",
       "      <th rowspan=\"2\" valign=\"top\">g2</th>\n",
       "      <th>4</th>\n",
       "      <td>0.527524</td>\n",
       "      <td>1.028577</td>\n",
       "      <td>-0.059032</td>\n",
       "      <td>0.500809</td>\n",
       "    </tr>\n",
       "    <tr>\n",
       "      <th>5</th>\n",
       "      <td>0.621186</td>\n",
       "      <td>0.491910</td>\n",
       "      <td>0.706283</td>\n",
       "      <td>0.105754</td>\n",
       "    </tr>\n",
       "  </tbody>\n",
       "</table>\n",
       "</div>"
      ],
      "text/plain": [
       "             a         b         c         d\n",
       "g1 1 -0.070782 -0.611522  0.194547  1.025839\n",
       "   2  0.327139  0.586525 -1.196564  2.035472\n",
       "   3  0.888067  0.278761  1.037051  0.970365\n",
       "g2 4  0.527524  1.028577 -0.059032  0.500809\n",
       "   5  0.621186  0.491910  0.706283  0.105754"
      ]
     },
     "execution_count": 75,
     "metadata": {},
     "output_type": "execute_result"
    }
   ],
   "source": [
    "df"
   ]
  },
  {
   "cell_type": "code",
   "execution_count": 76,
   "id": "random-plant",
   "metadata": {},
   "outputs": [
    {
     "data": {
      "text/html": [
       "<div>\n",
       "<style scoped>\n",
       "    .dataframe tbody tr th:only-of-type {\n",
       "        vertical-align: middle;\n",
       "    }\n",
       "\n",
       "    .dataframe tbody tr th {\n",
       "        vertical-align: top;\n",
       "    }\n",
       "\n",
       "    .dataframe thead th {\n",
       "        text-align: right;\n",
       "    }\n",
       "</style>\n",
       "<table border=\"1\" class=\"dataframe\">\n",
       "  <thead>\n",
       "    <tr style=\"text-align: right;\">\n",
       "      <th></th>\n",
       "      <th>a</th>\n",
       "      <th>b</th>\n",
       "      <th>c</th>\n",
       "      <th>d</th>\n",
       "    </tr>\n",
       "  </thead>\n",
       "  <tbody>\n",
       "    <tr>\n",
       "      <th>1</th>\n",
       "      <td>-0.070782</td>\n",
       "      <td>-0.611522</td>\n",
       "      <td>0.194547</td>\n",
       "      <td>1.025839</td>\n",
       "    </tr>\n",
       "    <tr>\n",
       "      <th>2</th>\n",
       "      <td>0.327139</td>\n",
       "      <td>0.586525</td>\n",
       "      <td>-1.196564</td>\n",
       "      <td>2.035472</td>\n",
       "    </tr>\n",
       "    <tr>\n",
       "      <th>3</th>\n",
       "      <td>0.888067</td>\n",
       "      <td>0.278761</td>\n",
       "      <td>1.037051</td>\n",
       "      <td>0.970365</td>\n",
       "    </tr>\n",
       "  </tbody>\n",
       "</table>\n",
       "</div>"
      ],
      "text/plain": [
       "          a         b         c         d\n",
       "1 -0.070782 -0.611522  0.194547  1.025839\n",
       "2  0.327139  0.586525 -1.196564  2.035472\n",
       "3  0.888067  0.278761  1.037051  0.970365"
      ]
     },
     "execution_count": 76,
     "metadata": {},
     "output_type": "execute_result"
    }
   ],
   "source": [
    "df.loc['g1']"
   ]
  },
  {
   "cell_type": "code",
   "execution_count": 77,
   "id": "athletic-pricing",
   "metadata": {},
   "outputs": [
    {
     "data": {
      "text/plain": [
       "-0.07078199872379547"
      ]
     },
     "execution_count": 77,
     "metadata": {},
     "output_type": "execute_result"
    }
   ],
   "source": [
    "df.loc['g1'].loc[1]['a']"
   ]
  },
  {
   "cell_type": "code",
   "execution_count": 80,
   "id": "failing-observation",
   "metadata": {},
   "outputs": [],
   "source": [
    "df.index.names = ['group','name']"
   ]
  },
  {
   "cell_type": "code",
   "execution_count": 81,
   "id": "cooperative-bargain",
   "metadata": {},
   "outputs": [
    {
     "data": {
      "text/html": [
       "<div>\n",
       "<style scoped>\n",
       "    .dataframe tbody tr th:only-of-type {\n",
       "        vertical-align: middle;\n",
       "    }\n",
       "\n",
       "    .dataframe tbody tr th {\n",
       "        vertical-align: top;\n",
       "    }\n",
       "\n",
       "    .dataframe thead th {\n",
       "        text-align: right;\n",
       "    }\n",
       "</style>\n",
       "<table border=\"1\" class=\"dataframe\">\n",
       "  <thead>\n",
       "    <tr style=\"text-align: right;\">\n",
       "      <th></th>\n",
       "      <th></th>\n",
       "      <th>a</th>\n",
       "      <th>b</th>\n",
       "      <th>c</th>\n",
       "      <th>d</th>\n",
       "    </tr>\n",
       "    <tr>\n",
       "      <th>group</th>\n",
       "      <th>name</th>\n",
       "      <th></th>\n",
       "      <th></th>\n",
       "      <th></th>\n",
       "      <th></th>\n",
       "    </tr>\n",
       "  </thead>\n",
       "  <tbody>\n",
       "    <tr>\n",
       "      <th rowspan=\"3\" valign=\"top\">g1</th>\n",
       "      <th>1</th>\n",
       "      <td>-0.070782</td>\n",
       "      <td>-0.611522</td>\n",
       "      <td>0.194547</td>\n",
       "      <td>1.025839</td>\n",
       "    </tr>\n",
       "    <tr>\n",
       "      <th>2</th>\n",
       "      <td>0.327139</td>\n",
       "      <td>0.586525</td>\n",
       "      <td>-1.196564</td>\n",
       "      <td>2.035472</td>\n",
       "    </tr>\n",
       "    <tr>\n",
       "      <th>3</th>\n",
       "      <td>0.888067</td>\n",
       "      <td>0.278761</td>\n",
       "      <td>1.037051</td>\n",
       "      <td>0.970365</td>\n",
       "    </tr>\n",
       "    <tr>\n",
       "      <th rowspan=\"2\" valign=\"top\">g2</th>\n",
       "      <th>4</th>\n",
       "      <td>0.527524</td>\n",
       "      <td>1.028577</td>\n",
       "      <td>-0.059032</td>\n",
       "      <td>0.500809</td>\n",
       "    </tr>\n",
       "    <tr>\n",
       "      <th>5</th>\n",
       "      <td>0.621186</td>\n",
       "      <td>0.491910</td>\n",
       "      <td>0.706283</td>\n",
       "      <td>0.105754</td>\n",
       "    </tr>\n",
       "  </tbody>\n",
       "</table>\n",
       "</div>"
      ],
      "text/plain": [
       "                   a         b         c         d\n",
       "group name                                        \n",
       "g1    1    -0.070782 -0.611522  0.194547  1.025839\n",
       "      2     0.327139  0.586525 -1.196564  2.035472\n",
       "      3     0.888067  0.278761  1.037051  0.970365\n",
       "g2    4     0.527524  1.028577 -0.059032  0.500809\n",
       "      5     0.621186  0.491910  0.706283  0.105754"
      ]
     },
     "execution_count": 81,
     "metadata": {},
     "output_type": "execute_result"
    }
   ],
   "source": [
    "df"
   ]
  },
  {
   "cell_type": "code",
   "execution_count": 84,
   "id": "southwest-prime",
   "metadata": {},
   "outputs": [
    {
     "data": {
      "text/html": [
       "<div>\n",
       "<style scoped>\n",
       "    .dataframe tbody tr th:only-of-type {\n",
       "        vertical-align: middle;\n",
       "    }\n",
       "\n",
       "    .dataframe tbody tr th {\n",
       "        vertical-align: top;\n",
       "    }\n",
       "\n",
       "    .dataframe thead th {\n",
       "        text-align: right;\n",
       "    }\n",
       "</style>\n",
       "<table border=\"1\" class=\"dataframe\">\n",
       "  <thead>\n",
       "    <tr style=\"text-align: right;\">\n",
       "      <th></th>\n",
       "      <th></th>\n",
       "      <th>a</th>\n",
       "      <th>b</th>\n",
       "      <th>c</th>\n",
       "      <th>d</th>\n",
       "    </tr>\n",
       "    <tr>\n",
       "      <th>group</th>\n",
       "      <th>name</th>\n",
       "      <th></th>\n",
       "      <th></th>\n",
       "      <th></th>\n",
       "      <th></th>\n",
       "    </tr>\n",
       "  </thead>\n",
       "  <tbody>\n",
       "    <tr>\n",
       "      <th rowspan=\"3\" valign=\"top\">g1</th>\n",
       "      <th>1</th>\n",
       "      <td>-0.070782</td>\n",
       "      <td>-0.611522</td>\n",
       "      <td>0.194547</td>\n",
       "      <td>1.025839</td>\n",
       "    </tr>\n",
       "    <tr>\n",
       "      <th>2</th>\n",
       "      <td>0.327139</td>\n",
       "      <td>0.586525</td>\n",
       "      <td>-1.196564</td>\n",
       "      <td>2.035472</td>\n",
       "    </tr>\n",
       "    <tr>\n",
       "      <th>3</th>\n",
       "      <td>0.888067</td>\n",
       "      <td>0.278761</td>\n",
       "      <td>1.037051</td>\n",
       "      <td>0.970365</td>\n",
       "    </tr>\n",
       "    <tr>\n",
       "      <th rowspan=\"2\" valign=\"top\">g2</th>\n",
       "      <th>4</th>\n",
       "      <td>0.527524</td>\n",
       "      <td>1.028577</td>\n",
       "      <td>-0.059032</td>\n",
       "      <td>0.500809</td>\n",
       "    </tr>\n",
       "    <tr>\n",
       "      <th>5</th>\n",
       "      <td>0.621186</td>\n",
       "      <td>0.491910</td>\n",
       "      <td>0.706283</td>\n",
       "      <td>0.105754</td>\n",
       "    </tr>\n",
       "  </tbody>\n",
       "</table>\n",
       "</div>"
      ],
      "text/plain": [
       "                   a         b         c         d\n",
       "group name                                        \n",
       "g1    1    -0.070782 -0.611522  0.194547  1.025839\n",
       "      2     0.327139  0.586525 -1.196564  2.035472\n",
       "      3     0.888067  0.278761  1.037051  0.970365\n",
       "g2    4     0.527524  1.028577 -0.059032  0.500809\n",
       "      5     0.621186  0.491910  0.706283  0.105754"
      ]
     },
     "execution_count": 84,
     "metadata": {},
     "output_type": "execute_result"
    }
   ],
   "source": [
    "df"
   ]
  },
  {
   "cell_type": "code",
   "execution_count": 85,
   "id": "designing-disaster",
   "metadata": {},
   "outputs": [
    {
     "data": {
      "text/html": [
       "<div>\n",
       "<style scoped>\n",
       "    .dataframe tbody tr th:only-of-type {\n",
       "        vertical-align: middle;\n",
       "    }\n",
       "\n",
       "    .dataframe tbody tr th {\n",
       "        vertical-align: top;\n",
       "    }\n",
       "\n",
       "    .dataframe thead th {\n",
       "        text-align: right;\n",
       "    }\n",
       "</style>\n",
       "<table border=\"1\" class=\"dataframe\">\n",
       "  <thead>\n",
       "    <tr style=\"text-align: right;\">\n",
       "      <th></th>\n",
       "      <th>a</th>\n",
       "      <th>b</th>\n",
       "      <th>c</th>\n",
       "      <th>d</th>\n",
       "    </tr>\n",
       "    <tr>\n",
       "      <th>name</th>\n",
       "      <th></th>\n",
       "      <th></th>\n",
       "      <th></th>\n",
       "      <th></th>\n",
       "    </tr>\n",
       "  </thead>\n",
       "  <tbody>\n",
       "    <tr>\n",
       "      <th>1</th>\n",
       "      <td>-0.070782</td>\n",
       "      <td>-0.611522</td>\n",
       "      <td>0.194547</td>\n",
       "      <td>1.025839</td>\n",
       "    </tr>\n",
       "    <tr>\n",
       "      <th>2</th>\n",
       "      <td>0.327139</td>\n",
       "      <td>0.586525</td>\n",
       "      <td>-1.196564</td>\n",
       "      <td>2.035472</td>\n",
       "    </tr>\n",
       "    <tr>\n",
       "      <th>3</th>\n",
       "      <td>0.888067</td>\n",
       "      <td>0.278761</td>\n",
       "      <td>1.037051</td>\n",
       "      <td>0.970365</td>\n",
       "    </tr>\n",
       "  </tbody>\n",
       "</table>\n",
       "</div>"
      ],
      "text/plain": [
       "             a         b         c         d\n",
       "name                                        \n",
       "1    -0.070782 -0.611522  0.194547  1.025839\n",
       "2     0.327139  0.586525 -1.196564  2.035472\n",
       "3     0.888067  0.278761  1.037051  0.970365"
      ]
     },
     "execution_count": 85,
     "metadata": {},
     "output_type": "execute_result"
    }
   ],
   "source": [
    "df.xs('g1')"
   ]
  },
  {
   "cell_type": "code",
   "execution_count": 86,
   "id": "weird-belfast",
   "metadata": {},
   "outputs": [
    {
     "data": {
      "text/html": [
       "<div>\n",
       "<style scoped>\n",
       "    .dataframe tbody tr th:only-of-type {\n",
       "        vertical-align: middle;\n",
       "    }\n",
       "\n",
       "    .dataframe tbody tr th {\n",
       "        vertical-align: top;\n",
       "    }\n",
       "\n",
       "    .dataframe thead th {\n",
       "        text-align: right;\n",
       "    }\n",
       "</style>\n",
       "<table border=\"1\" class=\"dataframe\">\n",
       "  <thead>\n",
       "    <tr style=\"text-align: right;\">\n",
       "      <th></th>\n",
       "      <th>a</th>\n",
       "      <th>b</th>\n",
       "      <th>c</th>\n",
       "      <th>d</th>\n",
       "    </tr>\n",
       "    <tr>\n",
       "      <th>group</th>\n",
       "      <th></th>\n",
       "      <th></th>\n",
       "      <th></th>\n",
       "      <th></th>\n",
       "    </tr>\n",
       "  </thead>\n",
       "  <tbody>\n",
       "    <tr>\n",
       "      <th>g1</th>\n",
       "      <td>-0.070782</td>\n",
       "      <td>-0.611522</td>\n",
       "      <td>0.194547</td>\n",
       "      <td>1.025839</td>\n",
       "    </tr>\n",
       "  </tbody>\n",
       "</table>\n",
       "</div>"
      ],
      "text/plain": [
       "              a         b         c         d\n",
       "group                                        \n",
       "g1    -0.070782 -0.611522  0.194547  1.025839"
      ]
     },
     "execution_count": 86,
     "metadata": {},
     "output_type": "execute_result"
    }
   ],
   "source": [
    "df.xs(1,level='name')"
   ]
  },
  {
   "cell_type": "code",
   "execution_count": 88,
   "id": "stable-palmer",
   "metadata": {},
   "outputs": [
    {
     "data": {
      "text/html": [
       "<div>\n",
       "<style scoped>\n",
       "    .dataframe tbody tr th:only-of-type {\n",
       "        vertical-align: middle;\n",
       "    }\n",
       "\n",
       "    .dataframe tbody tr th {\n",
       "        vertical-align: top;\n",
       "    }\n",
       "\n",
       "    .dataframe thead th {\n",
       "        text-align: right;\n",
       "    }\n",
       "</style>\n",
       "<table border=\"1\" class=\"dataframe\">\n",
       "  <thead>\n",
       "    <tr style=\"text-align: right;\">\n",
       "      <th></th>\n",
       "      <th>a</th>\n",
       "      <th>b</th>\n",
       "      <th>c</th>\n",
       "      <th>d</th>\n",
       "    </tr>\n",
       "    <tr>\n",
       "      <th>group</th>\n",
       "      <th></th>\n",
       "      <th></th>\n",
       "      <th></th>\n",
       "      <th></th>\n",
       "    </tr>\n",
       "  </thead>\n",
       "  <tbody>\n",
       "    <tr>\n",
       "      <th>g1</th>\n",
       "      <td>0.327139</td>\n",
       "      <td>0.586525</td>\n",
       "      <td>-1.196564</td>\n",
       "      <td>2.035472</td>\n",
       "    </tr>\n",
       "  </tbody>\n",
       "</table>\n",
       "</div>"
      ],
      "text/plain": [
       "              a         b         c         d\n",
       "group                                        \n",
       "g1     0.327139  0.586525 -1.196564  2.035472"
      ]
     },
     "execution_count": 88,
     "metadata": {},
     "output_type": "execute_result"
    }
   ],
   "source": [
    "df.xs(2,level='name')"
   ]
  },
  {
   "cell_type": "code",
   "execution_count": null,
   "id": "virgin-introduction",
   "metadata": {},
   "outputs": [],
   "source": []
  },
  {
   "cell_type": "code",
   "execution_count": null,
   "id": "sunset-causing",
   "metadata": {},
   "outputs": [],
   "source": []
  },
  {
   "cell_type": "code",
   "execution_count": null,
   "id": "moral-object",
   "metadata": {},
   "outputs": [],
   "source": []
  },
  {
   "cell_type": "code",
   "execution_count": null,
   "id": "quantitative-rider",
   "metadata": {},
   "outputs": [],
   "source": []
  },
  {
   "cell_type": "code",
   "execution_count": null,
   "id": "exciting-processor",
   "metadata": {},
   "outputs": [],
   "source": []
  },
  {
   "cell_type": "code",
   "execution_count": null,
   "id": "opposite-illustration",
   "metadata": {},
   "outputs": [],
   "source": []
  },
  {
   "cell_type": "code",
   "execution_count": null,
   "id": "reflected-foundation",
   "metadata": {},
   "outputs": [],
   "source": []
  },
  {
   "cell_type": "code",
   "execution_count": null,
   "id": "described-western",
   "metadata": {},
   "outputs": [],
   "source": []
  },
  {
   "cell_type": "code",
   "execution_count": null,
   "id": "legal-captain",
   "metadata": {},
   "outputs": [],
   "source": []
  },
  {
   "cell_type": "code",
   "execution_count": null,
   "id": "younger-playback",
   "metadata": {},
   "outputs": [],
   "source": []
  },
  {
   "cell_type": "code",
   "execution_count": null,
   "id": "understood-moore",
   "metadata": {},
   "outputs": [],
   "source": []
  },
  {
   "cell_type": "code",
   "execution_count": null,
   "id": "universal-edwards",
   "metadata": {},
   "outputs": [],
   "source": []
  },
  {
   "cell_type": "code",
   "execution_count": null,
   "id": "vertical-convertible",
   "metadata": {},
   "outputs": [],
   "source": []
  },
  {
   "cell_type": "code",
   "execution_count": null,
   "id": "protective-character",
   "metadata": {},
   "outputs": [],
   "source": []
  },
  {
   "cell_type": "code",
   "execution_count": null,
   "id": "isolated-simple",
   "metadata": {},
   "outputs": [],
   "source": []
  },
  {
   "cell_type": "code",
   "execution_count": null,
   "id": "large-updating",
   "metadata": {},
   "outputs": [],
   "source": []
  },
  {
   "cell_type": "code",
   "execution_count": null,
   "id": "arranged-signature",
   "metadata": {},
   "outputs": [],
   "source": []
  },
  {
   "cell_type": "code",
   "execution_count": null,
   "id": "falling-season",
   "metadata": {},
   "outputs": [],
   "source": []
  },
  {
   "cell_type": "code",
   "execution_count": null,
   "id": "built-galaxy",
   "metadata": {},
   "outputs": [],
   "source": []
  },
  {
   "cell_type": "code",
   "execution_count": null,
   "id": "united-simple",
   "metadata": {},
   "outputs": [],
   "source": []
  },
  {
   "cell_type": "code",
   "execution_count": null,
   "id": "excessive-stuff",
   "metadata": {},
   "outputs": [],
   "source": []
  },
  {
   "cell_type": "code",
   "execution_count": null,
   "id": "refined-ranking",
   "metadata": {},
   "outputs": [],
   "source": []
  },
  {
   "cell_type": "code",
   "execution_count": null,
   "id": "muslim-elevation",
   "metadata": {},
   "outputs": [],
   "source": []
  },
  {
   "cell_type": "code",
   "execution_count": null,
   "id": "settled-mainstream",
   "metadata": {},
   "outputs": [],
   "source": []
  }
 ],
 "metadata": {
  "kernelspec": {
   "display_name": "Python 3",
   "language": "python",
   "name": "python3"
  },
  "language_info": {
   "codemirror_mode": {
    "name": "ipython",
    "version": 3
   },
   "file_extension": ".py",
   "mimetype": "text/x-python",
   "name": "python",
   "nbconvert_exporter": "python",
   "pygments_lexer": "ipython3",
   "version": "3.7.3"
  }
 },
 "nbformat": 4,
 "nbformat_minor": 5
}
