{
 "cells": [
  {
   "cell_type": "code",
   "execution_count": 1,
   "id": "committed-andrews",
   "metadata": {},
   "outputs": [],
   "source": [
    "import numpy as np"
   ]
  },
  {
   "cell_type": "code",
   "execution_count": 3,
   "id": "joint-inclusion",
   "metadata": {},
   "outputs": [],
   "source": [
    "from sklearn import preprocessing"
   ]
  },
  {
   "cell_type": "code",
   "execution_count": 9,
   "id": "adapted-theorem",
   "metadata": {},
   "outputs": [],
   "source": [
    "data = np.array([[10,20,30],[5,6,7],[10000,5000,3000]],dtype=object)"
   ]
  },
  {
   "cell_type": "code",
   "execution_count": 10,
   "id": "continued-arabic",
   "metadata": {},
   "outputs": [
    {
     "data": {
      "text/plain": [
       "array([[10, 20, 30],\n",
       "       [5, 6, 7],\n",
       "       [10000, 5000, 3000]], dtype=object)"
      ]
     },
     "execution_count": 10,
     "metadata": {},
     "output_type": "execute_result"
    }
   ],
   "source": [
    "data"
   ]
  },
  {
   "cell_type": "code",
   "execution_count": 12,
   "id": "duplicate-uzbekistan",
   "metadata": {},
   "outputs": [],
   "source": [
    "data_normalised = preprocessing.normalize(data,norm='l1')"
   ]
  },
  {
   "cell_type": "code",
   "execution_count": 13,
   "id": "massive-filing",
   "metadata": {},
   "outputs": [
    {
     "data": {
      "text/plain": [
       "array([[0.16666667, 0.33333333, 0.5       ],\n",
       "       [0.27777778, 0.33333333, 0.38888889],\n",
       "       [0.55555556, 0.27777778, 0.16666667]])"
      ]
     },
     "execution_count": 13,
     "metadata": {},
     "output_type": "execute_result"
    }
   ],
   "source": [
    "data_normalised"
   ]
  },
  {
   "cell_type": "code",
   "execution_count": 14,
   "id": "golden-detroit",
   "metadata": {},
   "outputs": [],
   "source": [
    "data_normalised_l2 = preprocessing.normalize(data,norm='l2')"
   ]
  },
  {
   "cell_type": "code",
   "execution_count": 15,
   "id": "labeled-opposition",
   "metadata": {},
   "outputs": [
    {
     "data": {
      "text/plain": [
       "array([[0.26726124, 0.53452248, 0.80178373],\n",
       "       [0.47673129, 0.57207755, 0.66742381],\n",
       "       [0.86386843, 0.43193421, 0.25916053]])"
      ]
     },
     "execution_count": 15,
     "metadata": {},
     "output_type": "execute_result"
    }
   ],
   "source": [
    "data_normalised_l2"
   ]
  },
  {
   "cell_type": "code",
   "execution_count": null,
   "id": "contrary-irrigation",
   "metadata": {},
   "outputs": [],
   "source": []
  },
  {
   "cell_type": "code",
   "execution_count": null,
   "id": "secret-workplace",
   "metadata": {},
   "outputs": [],
   "source": []
  },
  {
   "cell_type": "code",
   "execution_count": null,
   "id": "attempted-center",
   "metadata": {},
   "outputs": [],
   "source": []
  },
  {
   "cell_type": "code",
   "execution_count": null,
   "id": "civic-mauritius",
   "metadata": {},
   "outputs": [],
   "source": []
  }
 ],
 "metadata": {
  "kernelspec": {
   "display_name": "Python 3",
   "language": "python",
   "name": "python3"
  },
  "language_info": {
   "codemirror_mode": {
    "name": "ipython",
    "version": 3
   },
   "file_extension": ".py",
   "mimetype": "text/x-python",
   "name": "python",
   "nbconvert_exporter": "python",
   "pygments_lexer": "ipython3",
   "version": "3.7.3"
  }
 },
 "nbformat": 4,
 "nbformat_minor": 5
}
